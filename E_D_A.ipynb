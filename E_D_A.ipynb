{
 "cells": [
  {
   "cell_type": "code",
   "execution_count": 1,
   "id": "26a02e7d-e620-41fb-acfb-ff796215e309",
   "metadata": {},
   "outputs": [],
   "source": [
    "import pandas as pd\n",
    "import numpy as np\n",
    "import matplotlib.pyplot as plt\n",
    "import seaborn as sns\n",
    "import warnings\n",
    "warnings.filterwarnings('ignore')"
   ]
  },
  {
   "cell_type": "code",
   "execution_count": 3,
   "id": "d45ea146-80cd-438e-ab0b-541ea28737c2",
   "metadata": {},
   "outputs": [
    {
     "data": {
      "text/html": [
       "<div>\n",
       "<style scoped>\n",
       "    .dataframe tbody tr th:only-of-type {\n",
       "        vertical-align: middle;\n",
       "    }\n",
       "\n",
       "    .dataframe tbody tr th {\n",
       "        vertical-align: top;\n",
       "    }\n",
       "\n",
       "    .dataframe thead th {\n",
       "        text-align: right;\n",
       "    }\n",
       "</style>\n",
       "<table border=\"1\" class=\"dataframe\">\n",
       "  <thead>\n",
       "    <tr style=\"text-align: right;\">\n",
       "      <th></th>\n",
       "      <th>Date</th>\n",
       "      <th>Person_ID</th>\n",
       "      <th>Age</th>\n",
       "      <th>Gender</th>\n",
       "      <th>Sleep Start Time</th>\n",
       "      <th>Sleep End Time</th>\n",
       "      <th>Total Sleep Hours</th>\n",
       "      <th>Sleep Quality</th>\n",
       "      <th>Exercise (mins/day)</th>\n",
       "      <th>Caffeine Intake (mg)</th>\n",
       "      <th>Screen Time Before Bed (mins)</th>\n",
       "      <th>Work Hours (hrs/day)</th>\n",
       "      <th>Productivity Score</th>\n",
       "      <th>Mood Score</th>\n",
       "      <th>Stress Level</th>\n",
       "    </tr>\n",
       "  </thead>\n",
       "  <tbody>\n",
       "    <tr>\n",
       "      <th>0</th>\n",
       "      <td>2024-04-12</td>\n",
       "      <td>1860</td>\n",
       "      <td>32</td>\n",
       "      <td>Other</td>\n",
       "      <td>23.33</td>\n",
       "      <td>4.61</td>\n",
       "      <td>5.28</td>\n",
       "      <td>3</td>\n",
       "      <td>86</td>\n",
       "      <td>87</td>\n",
       "      <td>116</td>\n",
       "      <td>8.808920</td>\n",
       "      <td>8</td>\n",
       "      <td>3</td>\n",
       "      <td>6</td>\n",
       "    </tr>\n",
       "    <tr>\n",
       "      <th>1</th>\n",
       "      <td>2024-11-04</td>\n",
       "      <td>1769</td>\n",
       "      <td>41</td>\n",
       "      <td>Female</td>\n",
       "      <td>21.02</td>\n",
       "      <td>2.43</td>\n",
       "      <td>5.41</td>\n",
       "      <td>5</td>\n",
       "      <td>32</td>\n",
       "      <td>21</td>\n",
       "      <td>88</td>\n",
       "      <td>6.329833</td>\n",
       "      <td>10</td>\n",
       "      <td>3</td>\n",
       "      <td>7</td>\n",
       "    </tr>\n",
       "    <tr>\n",
       "      <th>2</th>\n",
       "      <td>2024-08-31</td>\n",
       "      <td>2528</td>\n",
       "      <td>20</td>\n",
       "      <td>Male</td>\n",
       "      <td>22.10</td>\n",
       "      <td>3.45</td>\n",
       "      <td>5.35</td>\n",
       "      <td>7</td>\n",
       "      <td>17</td>\n",
       "      <td>88</td>\n",
       "      <td>59</td>\n",
       "      <td>8.506306</td>\n",
       "      <td>10</td>\n",
       "      <td>9</td>\n",
       "      <td>10</td>\n",
       "    </tr>\n",
       "    <tr>\n",
       "      <th>3</th>\n",
       "      <td>2024-02-22</td>\n",
       "      <td>8041</td>\n",
       "      <td>37</td>\n",
       "      <td>Other</td>\n",
       "      <td>23.10</td>\n",
       "      <td>6.65</td>\n",
       "      <td>7.55</td>\n",
       "      <td>8</td>\n",
       "      <td>46</td>\n",
       "      <td>34</td>\n",
       "      <td>80</td>\n",
       "      <td>6.070240</td>\n",
       "      <td>8</td>\n",
       "      <td>4</td>\n",
       "      <td>2</td>\n",
       "    </tr>\n",
       "    <tr>\n",
       "      <th>4</th>\n",
       "      <td>2024-02-23</td>\n",
       "      <td>4843</td>\n",
       "      <td>46</td>\n",
       "      <td>Other</td>\n",
       "      <td>21.42</td>\n",
       "      <td>4.17</td>\n",
       "      <td>6.75</td>\n",
       "      <td>10</td>\n",
       "      <td>61</td>\n",
       "      <td>269</td>\n",
       "      <td>94</td>\n",
       "      <td>11.374994</td>\n",
       "      <td>8</td>\n",
       "      <td>7</td>\n",
       "      <td>9</td>\n",
       "    </tr>\n",
       "    <tr>\n",
       "      <th>...</th>\n",
       "      <td>...</td>\n",
       "      <td>...</td>\n",
       "      <td>...</td>\n",
       "      <td>...</td>\n",
       "      <td>...</td>\n",
       "      <td>...</td>\n",
       "      <td>...</td>\n",
       "      <td>...</td>\n",
       "      <td>...</td>\n",
       "      <td>...</td>\n",
       "      <td>...</td>\n",
       "      <td>...</td>\n",
       "      <td>...</td>\n",
       "      <td>...</td>\n",
       "      <td>...</td>\n",
       "    </tr>\n",
       "    <tr>\n",
       "      <th>4995</th>\n",
       "      <td>2024-01-03</td>\n",
       "      <td>5192</td>\n",
       "      <td>38</td>\n",
       "      <td>Female</td>\n",
       "      <td>22.78</td>\n",
       "      <td>4.15</td>\n",
       "      <td>5.37</td>\n",
       "      <td>1</td>\n",
       "      <td>55</td>\n",
       "      <td>216</td>\n",
       "      <td>96</td>\n",
       "      <td>9.384504</td>\n",
       "      <td>5</td>\n",
       "      <td>2</td>\n",
       "      <td>1</td>\n",
       "    </tr>\n",
       "    <tr>\n",
       "      <th>4996</th>\n",
       "      <td>2024-06-02</td>\n",
       "      <td>7134</td>\n",
       "      <td>55</td>\n",
       "      <td>Male</td>\n",
       "      <td>21.48</td>\n",
       "      <td>5.39</td>\n",
       "      <td>7.91</td>\n",
       "      <td>4</td>\n",
       "      <td>70</td>\n",
       "      <td>81</td>\n",
       "      <td>177</td>\n",
       "      <td>5.016193</td>\n",
       "      <td>5</td>\n",
       "      <td>6</td>\n",
       "      <td>2</td>\n",
       "    </tr>\n",
       "    <tr>\n",
       "      <th>4997</th>\n",
       "      <td>2024-08-13</td>\n",
       "      <td>6265</td>\n",
       "      <td>44</td>\n",
       "      <td>Female</td>\n",
       "      <td>22.02</td>\n",
       "      <td>2.82</td>\n",
       "      <td>4.80</td>\n",
       "      <td>6</td>\n",
       "      <td>21</td>\n",
       "      <td>90</td>\n",
       "      <td>139</td>\n",
       "      <td>11.788651</td>\n",
       "      <td>2</td>\n",
       "      <td>7</td>\n",
       "      <td>1</td>\n",
       "    </tr>\n",
       "    <tr>\n",
       "      <th>4998</th>\n",
       "      <td>2024-12-26</td>\n",
       "      <td>4205</td>\n",
       "      <td>55</td>\n",
       "      <td>Other</td>\n",
       "      <td>23.47</td>\n",
       "      <td>7.87</td>\n",
       "      <td>8.40</td>\n",
       "      <td>9</td>\n",
       "      <td>15</td>\n",
       "      <td>87</td>\n",
       "      <td>161</td>\n",
       "      <td>7.093145</td>\n",
       "      <td>8</td>\n",
       "      <td>1</td>\n",
       "      <td>6</td>\n",
       "    </tr>\n",
       "    <tr>\n",
       "      <th>4999</th>\n",
       "      <td>2024-04-11</td>\n",
       "      <td>2304</td>\n",
       "      <td>58</td>\n",
       "      <td>Male</td>\n",
       "      <td>20.72</td>\n",
       "      <td>1.37</td>\n",
       "      <td>4.65</td>\n",
       "      <td>1</td>\n",
       "      <td>6</td>\n",
       "      <td>26</td>\n",
       "      <td>35</td>\n",
       "      <td>5.615948</td>\n",
       "      <td>6</td>\n",
       "      <td>9</td>\n",
       "      <td>4</td>\n",
       "    </tr>\n",
       "  </tbody>\n",
       "</table>\n",
       "<p>5000 rows × 15 columns</p>\n",
       "</div>"
      ],
      "text/plain": [
       "            Date  Person_ID  Age  Gender  Sleep Start Time  Sleep End Time  \\\n",
       "0     2024-04-12       1860   32   Other             23.33            4.61   \n",
       "1     2024-11-04       1769   41  Female             21.02            2.43   \n",
       "2     2024-08-31       2528   20    Male             22.10            3.45   \n",
       "3     2024-02-22       8041   37   Other             23.10            6.65   \n",
       "4     2024-02-23       4843   46   Other             21.42            4.17   \n",
       "...          ...        ...  ...     ...               ...             ...   \n",
       "4995  2024-01-03       5192   38  Female             22.78            4.15   \n",
       "4996  2024-06-02       7134   55    Male             21.48            5.39   \n",
       "4997  2024-08-13       6265   44  Female             22.02            2.82   \n",
       "4998  2024-12-26       4205   55   Other             23.47            7.87   \n",
       "4999  2024-04-11       2304   58    Male             20.72            1.37   \n",
       "\n",
       "      Total Sleep Hours  Sleep Quality  Exercise (mins/day)  \\\n",
       "0                  5.28              3                   86   \n",
       "1                  5.41              5                   32   \n",
       "2                  5.35              7                   17   \n",
       "3                  7.55              8                   46   \n",
       "4                  6.75             10                   61   \n",
       "...                 ...            ...                  ...   \n",
       "4995               5.37              1                   55   \n",
       "4996               7.91              4                   70   \n",
       "4997               4.80              6                   21   \n",
       "4998               8.40              9                   15   \n",
       "4999               4.65              1                    6   \n",
       "\n",
       "      Caffeine Intake (mg)  Screen Time Before Bed (mins)  \\\n",
       "0                       87                            116   \n",
       "1                       21                             88   \n",
       "2                       88                             59   \n",
       "3                       34                             80   \n",
       "4                      269                             94   \n",
       "...                    ...                            ...   \n",
       "4995                   216                             96   \n",
       "4996                    81                            177   \n",
       "4997                    90                            139   \n",
       "4998                    87                            161   \n",
       "4999                    26                             35   \n",
       "\n",
       "      Work Hours (hrs/day)  Productivity Score  Mood Score  Stress Level  \n",
       "0                 8.808920                   8           3             6  \n",
       "1                 6.329833                  10           3             7  \n",
       "2                 8.506306                  10           9            10  \n",
       "3                 6.070240                   8           4             2  \n",
       "4                11.374994                   8           7             9  \n",
       "...                    ...                 ...         ...           ...  \n",
       "4995              9.384504                   5           2             1  \n",
       "4996              5.016193                   5           6             2  \n",
       "4997             11.788651                   2           7             1  \n",
       "4998              7.093145                   8           1             6  \n",
       "4999              5.615948                   6           9             4  \n",
       "\n",
       "[5000 rows x 15 columns]"
      ]
     },
     "execution_count": 3,
     "metadata": {},
     "output_type": "execute_result"
    }
   ],
   "source": [
    "df=pd.read_csv(r\"C:\\Users\\visha\\Downloads\\sleep_cycle_productivity.csv\")\n",
    "df"
   ]
  },
  {
   "cell_type": "code",
   "execution_count": 5,
   "id": "71b280db-146d-4f94-81ac-f7c4cbef63b0",
   "metadata": {},
   "outputs": [
    {
     "data": {
      "text/plain": [
       "Index(['Date', 'Person_ID', 'Age', 'Gender', 'Sleep Start Time',\n",
       "       'Sleep End Time', 'Total Sleep Hours', 'Sleep Quality',\n",
       "       'Exercise (mins/day)', 'Caffeine Intake (mg)',\n",
       "       'Screen Time Before Bed (mins)', 'Work Hours (hrs/day)',\n",
       "       'Productivity Score', 'Mood Score', 'Stress Level'],\n",
       "      dtype='object')"
      ]
     },
     "execution_count": 5,
     "metadata": {},
     "output_type": "execute_result"
    }
   ],
   "source": [
    "df.columns"
   ]
  },
  {
   "cell_type": "code",
   "execution_count": 7,
   "id": "5b370ff2-c101-449b-a4f7-52c08bf2b600",
   "metadata": {},
   "outputs": [
    {
     "name": "stdout",
     "output_type": "stream",
     "text": [
      "<class 'pandas.core.frame.DataFrame'>\n",
      "RangeIndex: 5000 entries, 0 to 4999\n",
      "Data columns (total 15 columns):\n",
      " #   Column                         Non-Null Count  Dtype  \n",
      "---  ------                         --------------  -----  \n",
      " 0   Date                           5000 non-null   object \n",
      " 1   Person_ID                      5000 non-null   int64  \n",
      " 2   Age                            5000 non-null   int64  \n",
      " 3   Gender                         5000 non-null   object \n",
      " 4   Sleep Start Time               5000 non-null   float64\n",
      " 5   Sleep End Time                 5000 non-null   float64\n",
      " 6   Total Sleep Hours              5000 non-null   float64\n",
      " 7   Sleep Quality                  5000 non-null   int64  \n",
      " 8   Exercise (mins/day)            5000 non-null   int64  \n",
      " 9   Caffeine Intake (mg)           5000 non-null   int64  \n",
      " 10  Screen Time Before Bed (mins)  5000 non-null   int64  \n",
      " 11  Work Hours (hrs/day)           5000 non-null   float64\n",
      " 12  Productivity Score             5000 non-null   int64  \n",
      " 13  Mood Score                     5000 non-null   int64  \n",
      " 14  Stress Level                   5000 non-null   int64  \n",
      "dtypes: float64(4), int64(9), object(2)\n",
      "memory usage: 586.1+ KB\n"
     ]
    }
   ],
   "source": [
    "df.info()"
   ]
  },
  {
   "cell_type": "code",
   "execution_count": 9,
   "id": "34f9d2f7-406e-4528-950b-3e382258d542",
   "metadata": {},
   "outputs": [
    {
     "data": {
      "text/plain": [
       "Index(['Date', 'Person_ID', 'Age', 'Gender', 'Sleep Start Time',\n",
       "       'Sleep End Time', 'Total Sleep Hours', 'Sleep Quality',\n",
       "       'Exercise (mins/day)', 'Caffeine Intake (mg)',\n",
       "       'Screen Time Before Bed (mins)', 'Work Hours (hrs/day)',\n",
       "       'Productivity Score', 'Mood Score', 'Stress Level'],\n",
       "      dtype='object')"
      ]
     },
     "execution_count": 9,
     "metadata": {},
     "output_type": "execute_result"
    }
   ],
   "source": [
    "df.columns"
   ]
  },
  {
   "cell_type": "code",
   "execution_count": 11,
   "id": "b93254ea-5854-4c22-8c15-b288c0e5fb26",
   "metadata": {},
   "outputs": [],
   "source": [
    "df.drop(labels=['Person_ID','Sleep Start Time','Sleep End Time','Sleep Quality'],axis=1,inplace=True)"
   ]
  },
  {
   "cell_type": "code",
   "execution_count": 13,
   "id": "916fcd1e-6089-474c-ac93-68e0cb96f328",
   "metadata": {},
   "outputs": [
    {
     "data": {
      "text/html": [
       "<div>\n",
       "<style scoped>\n",
       "    .dataframe tbody tr th:only-of-type {\n",
       "        vertical-align: middle;\n",
       "    }\n",
       "\n",
       "    .dataframe tbody tr th {\n",
       "        vertical-align: top;\n",
       "    }\n",
       "\n",
       "    .dataframe thead th {\n",
       "        text-align: right;\n",
       "    }\n",
       "</style>\n",
       "<table border=\"1\" class=\"dataframe\">\n",
       "  <thead>\n",
       "    <tr style=\"text-align: right;\">\n",
       "      <th></th>\n",
       "      <th>Date</th>\n",
       "      <th>Age</th>\n",
       "      <th>Gender</th>\n",
       "      <th>Total Sleep Hours</th>\n",
       "      <th>Exercise (mins/day)</th>\n",
       "      <th>Caffeine Intake (mg)</th>\n",
       "      <th>Screen Time Before Bed (mins)</th>\n",
       "      <th>Work Hours (hrs/day)</th>\n",
       "      <th>Productivity Score</th>\n",
       "      <th>Mood Score</th>\n",
       "      <th>Stress Level</th>\n",
       "    </tr>\n",
       "  </thead>\n",
       "  <tbody>\n",
       "    <tr>\n",
       "      <th>0</th>\n",
       "      <td>2024-04-12</td>\n",
       "      <td>32</td>\n",
       "      <td>Other</td>\n",
       "      <td>5.28</td>\n",
       "      <td>86</td>\n",
       "      <td>87</td>\n",
       "      <td>116</td>\n",
       "      <td>8.808920</td>\n",
       "      <td>8</td>\n",
       "      <td>3</td>\n",
       "      <td>6</td>\n",
       "    </tr>\n",
       "    <tr>\n",
       "      <th>1</th>\n",
       "      <td>2024-11-04</td>\n",
       "      <td>41</td>\n",
       "      <td>Female</td>\n",
       "      <td>5.41</td>\n",
       "      <td>32</td>\n",
       "      <td>21</td>\n",
       "      <td>88</td>\n",
       "      <td>6.329833</td>\n",
       "      <td>10</td>\n",
       "      <td>3</td>\n",
       "      <td>7</td>\n",
       "    </tr>\n",
       "    <tr>\n",
       "      <th>2</th>\n",
       "      <td>2024-08-31</td>\n",
       "      <td>20</td>\n",
       "      <td>Male</td>\n",
       "      <td>5.35</td>\n",
       "      <td>17</td>\n",
       "      <td>88</td>\n",
       "      <td>59</td>\n",
       "      <td>8.506306</td>\n",
       "      <td>10</td>\n",
       "      <td>9</td>\n",
       "      <td>10</td>\n",
       "    </tr>\n",
       "  </tbody>\n",
       "</table>\n",
       "</div>"
      ],
      "text/plain": [
       "         Date  Age  Gender  Total Sleep Hours  Exercise (mins/day)  \\\n",
       "0  2024-04-12   32   Other               5.28                   86   \n",
       "1  2024-11-04   41  Female               5.41                   32   \n",
       "2  2024-08-31   20    Male               5.35                   17   \n",
       "\n",
       "   Caffeine Intake (mg)  Screen Time Before Bed (mins)  Work Hours (hrs/day)  \\\n",
       "0                    87                            116              8.808920   \n",
       "1                    21                             88              6.329833   \n",
       "2                    88                             59              8.506306   \n",
       "\n",
       "   Productivity Score  Mood Score  Stress Level  \n",
       "0                   8           3             6  \n",
       "1                  10           3             7  \n",
       "2                  10           9            10  "
      ]
     },
     "execution_count": 13,
     "metadata": {},
     "output_type": "execute_result"
    }
   ],
   "source": [
    "df.head(3)"
   ]
  },
  {
   "cell_type": "code",
   "execution_count": 15,
   "id": "1a4d958c-6e5c-4ba6-a5af-e586ca0c6839",
   "metadata": {},
   "outputs": [
    {
     "data": {
      "image/png": "[encoded data removed]",
      "text/plain": [
       "<Figure size 640x480 with 1 Axes>"
      ]
     },
     "metadata": {},
     "output_type": "display_data"
    }
   ],
   "source": [
    "plt.hist(df['Work Hours (hrs/day)'])\n",
    "plt.show()"
   ]
  },
  {
   "cell_type": "code",
   "execution_count": 19,
   "id": "6ae65de3-e086-44cc-b39c-dbe1c100962b",
   "metadata": {},
   "outputs": [
    {
     "data": {
      "text/plain": [
       "<Axes: ylabel='Age'>"
      ]
     },
     "execution_count": 19,
     "metadata": {},
     "output_type": "execute_result"
    },
    {
     "data": {
      "image/png": "[encoded data removed]",
      "text/plain": [
       "<Figure size 640x480 with 1 Axes>"
      ]
     },
     "metadata": {},
     "output_type": "display_data"
    }
   ],
   "source": [
    "sns.boxplot(df['Age'])"
   ]
  },
  {
   "cell_type": "code",
   "execution_count": 21,
   "id": "a7d75ec3-e322-4ede-a4d9-13c38a90f978",
   "metadata": {},
   "outputs": [
    {
     "data": {
      "text/plain": [
       "<Axes: ylabel='Work Hours (hrs/day)'>"
      ]
     },
     "execution_count": 21,
     "metadata": {},
     "output_type": "execute_result"
    },
    {
     "data": {
      "image/png": "[encoded data removed]",
      "text/plain": [
       "<Figure size 640x480 with 1 Axes>"
      ]
     },
     "metadata": {},
     "output_type": "display_data"
    }
   ],
   "source": [
    "sns.boxplot(df['Work Hours (hrs/day)'])"
   ]
  },
  {
   "cell_type": "code",
   "execution_count": 23,
   "id": "d27e9723-40a8-453d-ad7f-830060a57848",
   "metadata": {},
   "outputs": [
    {
     "name": "stdout",
     "output_type": "stream",
     "text": [
      "<class 'pandas.core.frame.DataFrame'>\n",
      "RangeIndex: 5000 entries, 0 to 4999\n",
      "Data columns (total 11 columns):\n",
      " #   Column                         Non-Null Count  Dtype  \n",
      "---  ------                         --------------  -----  \n",
      " 0   Date                           5000 non-null   object \n",
      " 1   Age                            5000 non-null   int64  \n",
      " 2   Gender                         5000 non-null   object \n",
      " 3   Total Sleep Hours              5000 non-null   float64\n",
      " 4   Exercise (mins/day)            5000 non-null   int64  \n",
      " 5   Caffeine Intake (mg)           5000 non-null   int64  \n",
      " 6   Screen Time Before Bed (mins)  5000 non-null   int64  \n",
      " 7   Work Hours (hrs/day)           5000 non-null   float64\n",
      " 8   Productivity Score             5000 non-null   int64  \n",
      " 9   Mood Score                     5000 non-null   int64  \n",
      " 10  Stress Level                   5000 non-null   int64  \n",
      "dtypes: float64(2), int64(7), object(2)\n",
      "memory usage: 429.8+ KB\n"
     ]
    }
   ],
   "source": [
    "df.info()"
   ]
  },
  {
   "cell_type": "code",
   "execution_count": 25,
   "id": "7e6512e6-2fa5-48b5-81fe-f56f080cc10f",
   "metadata": {},
   "outputs": [
    {
     "data": {
      "text/plain": [
       "Date                             0\n",
       "Age                              0\n",
       "Gender                           0\n",
       "Total Sleep Hours                0\n",
       "Exercise (mins/day)              0\n",
       "Caffeine Intake (mg)             0\n",
       "Screen Time Before Bed (mins)    0\n",
       "Work Hours (hrs/day)             0\n",
       "Productivity Score               0\n",
       "Mood Score                       0\n",
       "Stress Level                     0\n",
       "dtype: int64"
      ]
     },
     "execution_count": 25,
     "metadata": {},
     "output_type": "execute_result"
    }
   ],
   "source": [
    "df.isna().sum()"
   ]
  },
  {
   "cell_type": "code",
   "execution_count": 31,
   "id": "34e0784e-39eb-47a0-ab97-5c725f929155",
   "metadata": {},
   "outputs": [],
   "source": [
    "df.drop(labels=['Date'],axis=1,inplace=True)"
   ]
  },
  {
   "cell_type": "code",
   "execution_count": 33,
   "id": "78717deb-f683-4820-b4dd-f036c1be3a95",
   "metadata": {},
   "outputs": [
    {
     "data": {
      "text/html": [
       "<div>\n",
       "<style scoped>\n",
       "    .dataframe tbody tr th:only-of-type {\n",
       "        vertical-align: middle;\n",
       "    }\n",
       "\n",
       "    .dataframe tbody tr th {\n",
       "        vertical-align: top;\n",
       "    }\n",
       "\n",
       "    .dataframe thead th {\n",
       "        text-align: right;\n",
       "    }\n",
       "</style>\n",
       "<table border=\"1\" class=\"dataframe\">\n",
       "  <thead>\n",
       "    <tr style=\"text-align: right;\">\n",
       "      <th></th>\n",
       "      <th>Age</th>\n",
       "      <th>Gender</th>\n",
       "      <th>Total Sleep Hours</th>\n",
       "      <th>Exercise (mins/day)</th>\n",
       "      <th>Caffeine Intake (mg)</th>\n",
       "      <th>Screen Time Before Bed (mins)</th>\n",
       "      <th>Work Hours (hrs/day)</th>\n",
       "      <th>Productivity Score</th>\n",
       "      <th>Mood Score</th>\n",
       "      <th>Stress Level</th>\n",
       "    </tr>\n",
       "  </thead>\n",
       "  <tbody>\n",
       "    <tr>\n",
       "      <th>0</th>\n",
       "      <td>32</td>\n",
       "      <td>Other</td>\n",
       "      <td>5.28</td>\n",
       "      <td>86</td>\n",
       "      <td>87</td>\n",
       "      <td>116</td>\n",
       "      <td>8.808920</td>\n",
       "      <td>8</td>\n",
       "      <td>3</td>\n",
       "      <td>6</td>\n",
       "    </tr>\n",
       "    <tr>\n",
       "      <th>1</th>\n",
       "      <td>41</td>\n",
       "      <td>Female</td>\n",
       "      <td>5.41</td>\n",
       "      <td>32</td>\n",
       "      <td>21</td>\n",
       "      <td>88</td>\n",
       "      <td>6.329833</td>\n",
       "      <td>10</td>\n",
       "      <td>3</td>\n",
       "      <td>7</td>\n",
       "    </tr>\n",
       "    <tr>\n",
       "      <th>2</th>\n",
       "      <td>20</td>\n",
       "      <td>Male</td>\n",
       "      <td>5.35</td>\n",
       "      <td>17</td>\n",
       "      <td>88</td>\n",
       "      <td>59</td>\n",
       "      <td>8.506306</td>\n",
       "      <td>10</td>\n",
       "      <td>9</td>\n",
       "      <td>10</td>\n",
       "    </tr>\n",
       "  </tbody>\n",
       "</table>\n",
       "</div>"
      ],
      "text/plain": [
       "   Age  Gender  Total Sleep Hours  Exercise (mins/day)  Caffeine Intake (mg)  \\\n",
       "0   32   Other               5.28                   86                    87   \n",
       "1   41  Female               5.41                   32                    21   \n",
       "2   20    Male               5.35                   17                    88   \n",
       "\n",
       "   Screen Time Before Bed (mins)  Work Hours (hrs/day)  Productivity Score  \\\n",
       "0                            116              8.808920                   8   \n",
       "1                             88              6.329833                  10   \n",
       "2                             59              8.506306                  10   \n",
       "\n",
       "   Mood Score  Stress Level  \n",
       "0           3             6  \n",
       "1           3             7  \n",
       "2           9            10  "
      ]
     },
     "execution_count": 33,
     "metadata": {},
     "output_type": "execute_result"
    }
   ],
   "source": [
    "df.head(3)"
   ]
  },
  {
   "cell_type": "code",
   "execution_count": 35,
   "id": "7a4fa5ad-c1d7-4275-8e9d-aa87c70498c1",
   "metadata": {},
   "outputs": [
    {
     "data": {
      "text/plain": [
       "Index(['Age', 'Gender', 'Total Sleep Hours', 'Exercise (mins/day)',\n",
       "       'Caffeine Intake (mg)', 'Screen Time Before Bed (mins)',\n",
       "       'Work Hours (hrs/day)', 'Productivity Score', 'Mood Score',\n",
       "       'Stress Level'],\n",
       "      dtype='object')"
      ]
     },
     "execution_count": 35,
     "metadata": {},
     "output_type": "execute_result"
    }
   ],
   "source": [
    "df.columns"
   ]
  },
  {
   "cell_type": "code",
   "execution_count": 41,
   "id": "7095bb68-71a3-4766-ac47-3e8261dfb6f4",
   "metadata": {},
   "outputs": [
    {
     "name": "stdout",
     "output_type": "stream",
     "text": [
      "<class 'pandas.core.frame.DataFrame'>\n",
      "RangeIndex: 5000 entries, 0 to 4999\n",
      "Data columns (total 10 columns):\n",
      " #   Column                         Non-Null Count  Dtype  \n",
      "---  ------                         --------------  -----  \n",
      " 0   Age                            5000 non-null   int64  \n",
      " 1   Gender                         5000 non-null   object \n",
      " 2   Total Sleep Hours              5000 non-null   float64\n",
      " 3   Exercise (mins/day)            5000 non-null   int64  \n",
      " 4   Caffeine Intake (mg)           5000 non-null   int64  \n",
      " 5   Screen Time Before Bed (mins)  5000 non-null   int64  \n",
      " 6   Work Hours (hrs/day)           5000 non-null   float64\n",
      " 7   Productivity Score             5000 non-null   int64  \n",
      " 8   Mood Score                     5000 non-null   int64  \n",
      " 9   Stress Level                   5000 non-null   int64  \n",
      "dtypes: float64(2), int64(7), object(1)\n",
      "memory usage: 390.8+ KB\n"
     ]
    }
   ],
   "source": [
    "df.info()"
   ]
  },
  {
   "cell_type": "code",
   "execution_count": 47,
   "id": "fb607cc6-6ec7-4044-a76c-42c80646ff22",
   "metadata": {},
   "outputs": [
    {
     "data": {
      "text/html": [
       "<div>\n",
       "<style scoped>\n",
       "    .dataframe tbody tr th:only-of-type {\n",
       "        vertical-align: middle;\n",
       "    }\n",
       "\n",
       "    .dataframe tbody tr th {\n",
       "        vertical-align: top;\n",
       "    }\n",
       "\n",
       "    .dataframe thead th {\n",
       "        text-align: right;\n",
       "    }\n",
       "</style>\n",
       "<table border=\"1\" class=\"dataframe\">\n",
       "  <thead>\n",
       "    <tr style=\"text-align: right;\">\n",
       "      <th></th>\n",
       "      <th>Age</th>\n",
       "      <th>Gender</th>\n",
       "      <th>Total Sleep Hours</th>\n",
       "      <th>Exercise (mins/day)</th>\n",
       "      <th>Caffeine Intake (mg)</th>\n",
       "      <th>Screen Time Before Bed (mins)</th>\n",
       "      <th>Work Hours (hrs/day)</th>\n",
       "      <th>Productivity Score</th>\n",
       "      <th>Mood Score</th>\n",
       "      <th>Stress Level</th>\n",
       "    </tr>\n",
       "  </thead>\n",
       "  <tbody>\n",
       "    <tr>\n",
       "      <th>0</th>\n",
       "      <td>32</td>\n",
       "      <td>Other</td>\n",
       "      <td>5.28</td>\n",
       "      <td>86</td>\n",
       "      <td>87</td>\n",
       "      <td>116</td>\n",
       "      <td>8.808920</td>\n",
       "      <td>8</td>\n",
       "      <td>3</td>\n",
       "      <td>6</td>\n",
       "    </tr>\n",
       "    <tr>\n",
       "      <th>1</th>\n",
       "      <td>41</td>\n",
       "      <td>Female</td>\n",
       "      <td>5.41</td>\n",
       "      <td>32</td>\n",
       "      <td>21</td>\n",
       "      <td>88</td>\n",
       "      <td>6.329833</td>\n",
       "      <td>10</td>\n",
       "      <td>3</td>\n",
       "      <td>7</td>\n",
       "    </tr>\n",
       "    <tr>\n",
       "      <th>2</th>\n",
       "      <td>20</td>\n",
       "      <td>Male</td>\n",
       "      <td>5.35</td>\n",
       "      <td>17</td>\n",
       "      <td>88</td>\n",
       "      <td>59</td>\n",
       "      <td>8.506306</td>\n",
       "      <td>10</td>\n",
       "      <td>9</td>\n",
       "      <td>10</td>\n",
       "    </tr>\n",
       "    <tr>\n",
       "      <th>3</th>\n",
       "      <td>37</td>\n",
       "      <td>Other</td>\n",
       "      <td>7.55</td>\n",
       "      <td>46</td>\n",
       "      <td>34</td>\n",
       "      <td>80</td>\n",
       "      <td>6.070240</td>\n",
       "      <td>8</td>\n",
       "      <td>4</td>\n",
       "      <td>2</td>\n",
       "    </tr>\n",
       "    <tr>\n",
       "      <th>4</th>\n",
       "      <td>46</td>\n",
       "      <td>Other</td>\n",
       "      <td>6.75</td>\n",
       "      <td>61</td>\n",
       "      <td>269</td>\n",
       "      <td>94</td>\n",
       "      <td>11.374994</td>\n",
       "      <td>8</td>\n",
       "      <td>7</td>\n",
       "      <td>9</td>\n",
       "    </tr>\n",
       "  </tbody>\n",
       "</table>\n",
       "</div>"
      ],
      "text/plain": [
       "   Age  Gender  Total Sleep Hours  Exercise (mins/day)  Caffeine Intake (mg)  \\\n",
       "0   32   Other               5.28                   86                    87   \n",
       "1   41  Female               5.41                   32                    21   \n",
       "2   20    Male               5.35                   17                    88   \n",
       "3   37   Other               7.55                   46                    34   \n",
       "4   46   Other               6.75                   61                   269   \n",
       "\n",
       "   Screen Time Before Bed (mins)  Work Hours (hrs/day)  Productivity Score  \\\n",
       "0                            116              8.808920                   8   \n",
       "1                             88              6.329833                  10   \n",
       "2                             59              8.506306                  10   \n",
       "3                             80              6.070240                   8   \n",
       "4                             94             11.374994                   8   \n",
       "\n",
       "   Mood Score  Stress Level  \n",
       "0           3             6  \n",
       "1           3             7  \n",
       "2           9            10  \n",
       "3           4             2  \n",
       "4           7             9  "
      ]
     },
     "execution_count": 47,
     "metadata": {},
     "output_type": "execute_result"
    }
   ],
   "source": [
    "df.head()"
   ]
  },
  {
   "cell_type": "code",
   "execution_count": 58,
   "id": "69393a4d-335b-43a0-9e31-e417777b789e",
   "metadata": {},
   "outputs": [
    {
     "data": {
      "text/plain": [
       "Index(['Age', 'Gender', 'Total Sleep Hours', 'Exercise (mins/day)',\n",
       "       'Caffeine Intake (mg)', 'Screen Time Before Bed (mins)',\n",
       "       'Work Hours (hrs/day)', 'Productivity Score', 'Mood Score',\n",
       "       'Stress Level'],\n",
       "      dtype='object')"
      ]
     },
     "execution_count": 58,
     "metadata": {},
     "output_type": "execute_result"
    }
   ],
   "source": [
    "df.columns"
   ]
  },
  {
   "cell_type": "code",
   "execution_count": 60,
   "id": "503ccc3d-0a89-45ec-a1b1-96c901af8a17",
   "metadata": {},
   "outputs": [
    {
     "data": {
      "text/plain": [
       "<bound method Series.unique of 0        Other\n",
       "1       Female\n",
       "2         Male\n",
       "3        Other\n",
       "4        Other\n",
       "         ...  \n",
       "4995    Female\n",
       "4996      Male\n",
       "4997    Female\n",
       "4998     Other\n",
       "4999      Male\n",
       "Name: Gender, Length: 5000, dtype: object>"
      ]
     },
     "execution_count": 60,
     "metadata": {},
     "output_type": "execute_result"
    }
   ],
   "source": [
    "df['Gender'].unique"
   ]
  },
  {
   "cell_type": "code",
   "execution_count": 62,
   "id": "f21dc50d-b633-434c-a792-fed4701a39b7",
   "metadata": {},
   "outputs": [],
   "source": [
    "df['Gender']=df['Gender'].str.replace('Male','0').str.replace('Female','1').str.replace('Other','2').astype(float)"
   ]
  },
  {
   "cell_type": "code",
   "execution_count": 64,
   "id": "1938b8ca-0e55-4903-87fb-59da9cdaf039",
   "metadata": {},
   "outputs": [
    {
     "name": "stdout",
     "output_type": "stream",
     "text": [
      "<class 'pandas.core.frame.DataFrame'>\n",
      "RangeIndex: 5000 entries, 0 to 4999\n",
      "Data columns (total 10 columns):\n",
      " #   Column                         Non-Null Count  Dtype  \n",
      "---  ------                         --------------  -----  \n",
      " 0   Age                            5000 non-null   int64  \n",
      " 1   Gender                         5000 non-null   float64\n",
      " 2   Total Sleep Hours              5000 non-null   float64\n",
      " 3   Exercise (mins/day)            5000 non-null   int64  \n",
      " 4   Caffeine Intake (mg)           5000 non-null   int64  \n",
      " 5   Screen Time Before Bed (mins)  5000 non-null   int64  \n",
      " 6   Work Hours (hrs/day)           5000 non-null   float64\n",
      " 7   Productivity Score             5000 non-null   int64  \n",
      " 8   Mood Score                     5000 non-null   int64  \n",
      " 9   Stress Level                   5000 non-null   int64  \n",
      "dtypes: float64(3), int64(7)\n",
      "memory usage: 390.8 KB\n"
     ]
    }
   ],
   "source": [
    "df.info()"
   ]
  },
  {
   "cell_type": "code",
   "execution_count": 66,
   "id": "ebd73cf9-b57b-41b4-93c7-6969c0f6b007",
   "metadata": {},
   "outputs": [
    {
     "data": {
      "image/png": "[encoded data removed]",
      "text/plain": [
       "<Figure size 640x480 with 2 Axes>"
      ]
     },
     "metadata": {},
     "output_type": "display_data"
    }
   ],
   "source": [
    "sns.heatmap(df.corr(),annot=True,fmt='.2f')\n",
    "plt.show()"
   ]
  },
  {
   "cell_type": "code",
   "execution_count": 68,
   "id": "687ffabf-1149-466d-87f2-84c1e54a3262",
   "metadata": {},
   "outputs": [
    {
     "data": {
      "text/plain": [
       "Index(['Age', 'Gender', 'Total Sleep Hours', 'Exercise (mins/day)',\n",
       "       'Caffeine Intake (mg)', 'Screen Time Before Bed (mins)',\n",
       "       'Work Hours (hrs/day)', 'Productivity Score', 'Mood Score',\n",
       "       'Stress Level'],\n",
       "      dtype='object')"
      ]
     },
     "execution_count": 68,
     "metadata": {},
     "output_type": "execute_result"
    }
   ],
   "source": [
    "df.columns"
   ]
  },
  {
   "cell_type": "code",
   "execution_count": 84,
   "id": "00dd7505-a99b-453d-8d0a-3cc293206af5",
   "metadata": {},
   "outputs": [
    {
     "data": {
      "image/png": "[encoded data removed]",
      "text/plain": [
       "<Figure size 640x480 with 4 Axes>"
      ]
     },
     "metadata": {},
     "output_type": "display_data"
    }
   ],
   "source": [
    "plt.subplot(3,2,1)\n",
    "plt.title('Total Sleep Hours')\n",
    "plt.hist(df['Total Sleep Hours'])\n",
    "plt.subplot(3,2,2)\n",
    "plt.title('Productivity Score')\n",
    "plt.hist(df['Productivity Score'])\n",
    "plt.subplot(3,2,5)\n",
    "plt.title('Screen Time Before Bed (mins)')\n",
    "plt.hist(df['Screen Time Before Bed (mins)'])\n",
    "plt.subplot(3,2,6)\n",
    "plt.title('Stress Level')\n",
    "plt.hist(df['Stress Level'])\n",
    "plt.show()"
   ]
  },
  {
   "cell_type": "code",
   "execution_count": 1,
   "id": "82c43b7a-4448-441f-99fb-404892440667",
   "metadata": {},
   "outputs": [],
   "source": [
    "def bar_plot(variable):\n",
    "    var=df[variable]\n",
    "    varValue=var.value_counts()\n",
    "    plt.figure(figsize=(9,3))\n",
    "    plt.bar(varValue.index,varValue)\n",
    "    plt.xticks(varValue.index,varValue.index.values)\n",
    "    plt.ylabel(\"Frequency\")\n",
    "    plt.title(variable)\n",
    "    plt.show()\n",
    "    print(\"{}: \\n {}\".format(variable,varValue))"
   ]
  },
  {
   "cell_type": "code",
   "execution_count": 3,
   "id": "19b84adf-d0dc-4ac6-8a9b-db29918c6404",
   "metadata": {},
   "outputs": [
    {
     "ename": "NameError",
     "evalue": "name 'df' is not defined",
     "output_type": "error",
     "traceback": [
      "\u001b[1;31m---------------------------------------------------------------------------\u001b[0m",
      "\u001b[1;31mNameError\u001b[0m                                 Traceback (most recent call last)",
      "Cell \u001b[1;32mIn[3], line 3\u001b[0m\n\u001b[0;32m      1\u001b[0m columns_plot\u001b[38;5;241m=\u001b[39m[\u001b[38;5;124m'\u001b[39m\u001b[38;5;124mAge\u001b[39m\u001b[38;5;124m'\u001b[39m, \u001b[38;5;124m'\u001b[39m\u001b[38;5;124mGender\u001b[39m\u001b[38;5;124m'\u001b[39m, \u001b[38;5;124m'\u001b[39m\u001b[38;5;124mTotal Sleep Hours\u001b[39m\u001b[38;5;124m'\u001b[39m,\u001b[38;5;124m'\u001b[39m\u001b[38;5;124mStress Level\u001b[39m\u001b[38;5;124m'\u001b[39m]\n\u001b[0;32m      2\u001b[0m \u001b[38;5;28;01mfor\u001b[39;00m i \u001b[38;5;129;01min\u001b[39;00m columns_plot:\n\u001b[1;32m----> 3\u001b[0m     bar_plot(i)\n",
      "Cell \u001b[1;32mIn[1], line 2\u001b[0m, in \u001b[0;36mbar_plot\u001b[1;34m(variable)\u001b[0m\n\u001b[0;32m      1\u001b[0m \u001b[38;5;28;01mdef\u001b[39;00m \u001b[38;5;21mbar_plot\u001b[39m(variable):\n\u001b[1;32m----> 2\u001b[0m     var\u001b[38;5;241m=\u001b[39mdf[variable]\n\u001b[0;32m      3\u001b[0m     varValue\u001b[38;5;241m=\u001b[39mvar\u001b[38;5;241m.\u001b[39mvalue_counts()\n\u001b[0;32m      4\u001b[0m     plt\u001b[38;5;241m.\u001b[39mfigure(figsize\u001b[38;5;241m=\u001b[39m(\u001b[38;5;241m9\u001b[39m,\u001b[38;5;241m3\u001b[39m))\n",
      "\u001b[1;31mNameError\u001b[0m: name 'df' is not defined"
     ]
    }
   ],
   "source": [
    "columns_plot=['Age', 'Gender', 'Total Sleep Hours','Stress Level']\n",
    "for i in columns_plot:\n",
    "    bar_plot(i)\n"
   ]
  },
  {
   "cell_type": "code",
   "execution_count": null,
   "id": "7b8ce23c-a837-4f14-852f-28d5fa9d6b2b",
   "metadata": {},
   "outputs": [],
   "source": []
  }
 ],
 "metadata": {
  "kernelspec": {
   "display_name": "Python [conda env:base] *",
   "language": "python",
   "name": "conda-base-py"
  },
  "language_info": {
   "codemirror_mode": {
    "name": "ipython",
    "version": 3
   },
   "file_extension": ".py",
   "mimetype": "text/x-python",
   "name": "python",
   "nbconvert_exporter": "python",
   "pygments_lexer": "ipython3",
   "version": "3.12.7"
  }
 },
 "nbformat": 4,
 "nbformat_minor": 5
}
